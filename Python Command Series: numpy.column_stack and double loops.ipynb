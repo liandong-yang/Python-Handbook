{
 "cells": [
  {
   "cell_type": "markdown",
   "metadata": {},
   "source": [
    "## Python Command Series: numpy.column_stack([[x, y] for x in xvals for y in yvals])\n",
    "* I ran into this question when I was reading [A First Course in Quantitative Economics with Python\n",
    "Eigenvalues and Eigenvectors](https://intro.quantecon.org/eigen_I.html)"
   ]
  },
  {
   "cell_type": "code",
   "execution_count": 6,
   "metadata": {},
   "outputs": [
    {
     "data": {
      "text/plain": [
       "array([[-4., -4., -4., -4., -4., -4., -4., -3., -3., -3., -3., -3., -3.,\n",
       "        -3., -2., -2., -2., -2., -2., -2., -2., -1., -1., -1., -1., -1.,\n",
       "        -1., -1.,  0.,  0.,  0.,  0.,  0.,  0.,  0.,  1.,  1.,  1.,  1.,\n",
       "         1.,  1.,  1.,  2.,  2.,  2.,  2.,  2.,  2.,  2.,  3.,  3.,  3.,\n",
       "         3.,  3.,  3.,  3.,  4.,  4.,  4.,  4.,  4.,  4.,  4.],\n",
       "       [-3., -2., -1.,  0.,  1.,  2.,  3., -3., -2., -1.,  0.,  1.,  2.,\n",
       "         3., -3., -2., -1.,  0.,  1.,  2.,  3., -3., -2., -1.,  0.,  1.,\n",
       "         2.,  3., -3., -2., -1.,  0.,  1.,  2.,  3., -3., -2., -1.,  0.,\n",
       "         1.,  2.,  3., -3., -2., -1.,  0.,  1.,  2.,  3., -3., -2., -1.,\n",
       "         0.,  1.,  2.,  3., -3., -2., -1.,  0.,  1.,  2.,  3.]])"
      ]
     },
     "execution_count": 6,
     "metadata": {},
     "output_type": "execute_result"
    }
   ],
   "source": [
    "import numpy as np\n",
    "xvals = np.linspace(-4, 4, 9)\n",
    "yvals = np.linspace(-3, 3, 7)\n",
    "xygrid = np.column_stack([[x, y] for x in xvals for y in yvals])\n",
    "xvals\n",
    "yvals\n",
    "xygrid"
   ]
  },
  {
   "cell_type": "markdown",
   "metadata": {},
   "source": [
    "It is difficult to figure out how the *xggrid* is created. To figure out the mechanism behind the combination of the loops and *column_stack*, I start with simple examples."
   ]
  },
  {
   "cell_type": "code",
   "execution_count": 2,
   "metadata": {},
   "outputs": [
    {
     "name": "stdout",
     "output_type": "stream",
     "text": [
      "xvals is [-4.]\n",
      "\n",
      "yvals is [-3. -2. -1.  0.  1.  2.  3.]\n",
      "\n",
      "xygrid is [[-4. -4. -4. -4. -4. -4. -4.]\n",
      " [-3. -2. -1.  0.  1.  2.  3.]]\n"
     ]
    }
   ],
   "source": [
    "import numpy as np\n",
    "xvals = np.linspace(-4, -4, 1)\n",
    "yvals = np.linspace(-3, 3, 7)\n",
    "xygrid = np.column_stack([[x, y] for x in xvals for y in yvals])\n",
    "print(f\"xvals is {xvals}\\n\")\n",
    "print(f\"yvals is {yvals}\\n\")\n",
    "print(f\"xygrid is {xygrid}\")"
   ]
  },
  {
   "cell_type": "markdown",
   "metadata": {},
   "source": [
    "If *xvals* is a constant and  *yvals* is a 1 x 7 row vector, the result is a 2 x 7 matrix with the first row filled with the same constant values. Then we do the opposite."
   ]
  },
  {
   "cell_type": "code",
   "execution_count": 4,
   "metadata": {},
   "outputs": [
    {
     "name": "stdout",
     "output_type": "stream",
     "text": [
      "xvals is [-4. -3. -2. -1.  0.  1.  2.  3.  4.]\n",
      "\n",
      "yvals is [-3.]\n",
      "\n",
      "xygrid is [[-4. -3. -2. -1.  0.  1.  2.  3.  4.]\n",
      " [-3. -3. -3. -3. -3. -3. -3. -3. -3.]]\n"
     ]
    }
   ],
   "source": [
    "import numpy as np\n",
    "xvals = np.linspace(-4, 4, 9)\n",
    "yvals = np.linspace(-3, -3, 1)\n",
    "xygrid = np.column_stack([[x, y] for x in xvals for y in yvals])\n",
    "print(f\"xvals is {xvals}\\n\")\n",
    "print(f\"yvals is {yvals}\\n\")\n",
    "print(f\"xygrid is {xygrid}\")"
   ]
  },
  {
   "cell_type": "markdown",
   "metadata": {},
   "source": [
    "Now we should have some clue aboput what's going on behind the initial codes. Let's write them in another way."
   ]
  },
  {
   "cell_type": "code",
   "execution_count": 10,
   "metadata": {},
   "outputs": [
    {
     "name": "stdout",
     "output_type": "stream",
     "text": [
      "xygrid is [['A' '-4.0' '-4.0' '-4.0' '-4.0' '-4.0' '-4.0' '-4.0' '-3.0' '-3.0'\n",
      "  '-3.0' '-3.0' '-3.0' '-3.0' '-3.0' '-2.0' '-2.0' '-2.0' '-2.0' '-2.0'\n",
      "  '-2.0' '-2.0' '-1.0' '-1.0' '-1.0' '-1.0' '-1.0' '-1.0' '-1.0' '0.0'\n",
      "  '0.0' '0.0' '0.0' '0.0' '0.0' '0.0' '1.0' '1.0' '1.0' '1.0' '1.0' '1.0'\n",
      "  '1.0' '2.0' '2.0' '2.0' '2.0' '2.0' '2.0' '2.0' '3.0' '3.0' '3.0' '3.0'\n",
      "  '3.0' '3.0' '3.0' '4.0' '4.0' '4.0' '4.0' '4.0' '4.0' '4.0']\n",
      " ['A' '-3.0' '-2.0' '-1.0' '0.0' '1.0' '2.0' '3.0' '-3.0' '-2.0' '-1.0'\n",
      "  '0.0' '1.0' '2.0' '3.0' '-3.0' '-2.0' '-1.0' '0.0' '1.0' '2.0' '3.0'\n",
      "  '-3.0' '-2.0' '-1.0' '0.0' '1.0' '2.0' '3.0' '-3.0' '-2.0' '-1.0' '0.0'\n",
      "  '1.0' '2.0' '3.0' '-3.0' '-2.0' '-1.0' '0.0' '1.0' '2.0' '3.0' '-3.0'\n",
      "  '-2.0' '-1.0' '0.0' '1.0' '2.0' '3.0' '-3.0' '-2.0' '-1.0' '0.0' '1.0'\n",
      "  '2.0' '3.0' '-3.0' '-2.0' '-1.0' '0.0' '1.0' '2.0' '3.0']]\n"
     ]
    }
   ],
   "source": [
    "import numpy as np\n",
    "xvals = np.linspace(-4, 4, 9)\n",
    "yvals = np.linspace(-3, 3, 7)\n",
    "xygrid = (\"A\",  \"A\")\n",
    "for x in xvals:\n",
    "    for y in yvals:\n",
    "        xygrid = np.column_stack((xygrid, [x, y]))\n",
    "\n",
    "print(f\"xygrid is {xygrid}\")"
   ]
  }
 ],
 "metadata": {
  "kernelspec": {
   "display_name": "base",
   "language": "python",
   "name": "python3"
  },
  "language_info": {
   "codemirror_mode": {
    "name": "ipython",
    "version": 3
   },
   "file_extension": ".py",
   "mimetype": "text/x-python",
   "name": "python",
   "nbconvert_exporter": "python",
   "pygments_lexer": "ipython3",
   "version": "3.9.18"
  }
 },
 "nbformat": 4,
 "nbformat_minor": 2
}
